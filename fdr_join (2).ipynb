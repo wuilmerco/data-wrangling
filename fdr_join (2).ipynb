{
 "cells": [
  {
   "cell_type": "code",
   "execution_count": 1,
   "id": "4941bb40-195b-4b15-83ff-9b16ea34b997",
   "metadata": {},
   "outputs": [],
   "source": [
    "import pandas as pd\n",
    "import glob"
   ]
  },
  {
   "cell_type": "code",
   "execution_count": 2,
   "id": "53164895-9fd5-4926-8b0a-6d7dc14abb0e",
   "metadata": {},
   "outputs": [],
   "source": [
    "fdrs_folder_path_name = '../data/fdrs'\n",
    "output_path_name = '../data/'"
   ]
  },
  {
   "cell_type": "code",
   "execution_count": 3,
   "id": "65529d4e-8343-4c05-b1dc-a43aaa8261a2",
   "metadata": {},
   "outputs": [],
   "source": [
    "def join_fdrs(fdrs_folder_path, output_path):\n",
    "    \n",
    "    fdr_names_list = glob.glob(fdrs_folder_path + \"/*.xlsm\")\n",
    "    \n",
    "    list_of_fdrs_as_dfs = []asd\n",
    "    \n",
    "    for fdr_name in fdr_names_list:\n",
    "        fdr_as_df = pd.read_excel(fdr_name, sheet_name='DB')\n",
    "        list_of_fdrs_as_dfs.append(fdr_as_df)    \n",
    "    \n",
    "    fdrs_concat = pd.concat(list_of_fdrs_as_dfs, ignore_index=True)\n",
    "    \n",
    "    fdrs_concat.to_excel(output_path + 'fdrs.xlsx' , index=False)\n"
   ]
  },
  {
   "cell_type": "code",
   "execution_count": 4,
   "id": "17d43588-b27d-4d58-9d67-637778432773",
   "metadata": {},
   "outputs": [
    {
     "name": "stderr",
     "output_type": "stream",
     "text": [
      "C:\\Users\\wuilmer\\Projects\\venvs\\agcare\\Lib\\site-packages\\openpyxl\\worksheet\\_reader.py:329: UserWarning: Data Validation extension is not supported and will be removed\n",
      "  warn(msg)\n"
     ]
    }
   ],
   "source": [
    "join_fdrs(fdrs_folder_path_name, output_path_name)"
   ]
  },
  {
   "cell_type": "code",
   "execution_count": null,
   "id": "ffafbeb9-1184-4774-8ffd-1986bfa343bc",
   "metadata": {},
   "outputs": [],
   "source": []
  },
  {
   "cell_type": "code",
   "execution_count": null,
   "id": "d027e6cb-7beb-4578-bb21-a0960ab185da",
   "metadata": {},
   "outputs": [],
   "source": []
  }
 ],
 "metadata": {
  "kernelspec": {
   "display_name": "Python 3 (ipykernel)",
   "language": "python",
   "name": "python3"
  },
  "language_info": {
   "codemirror_mode": {
    "name": "ipython",
    "version": 3
   },
   "file_extension": ".py",
   "mimetype": "text/x-python",
   "name": "python",
   "nbconvert_exporter": "python",
   "pygments_lexer": "ipython3",
   "version": "3.13.3"
  }
 },
 "nbformat": 4,
 "nbformat_minor": 5
}
