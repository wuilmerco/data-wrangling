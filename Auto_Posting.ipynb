{
 "cells": [
  {
   "cell_type": "code",
   "execution_count": 13,
   "id": "b57fadc4-34d0-4bc8-aa35-d9c37afe4d39",
   "metadata": {},
   "outputs": [],
   "source": [
    "import pandas as pd\n",
    "import glob\n",
    "import openpyxl\n",
    "import os"
   ]
  },
  {
   "cell_type": "code",
   "execution_count": 14,
   "id": "2bae0d9b-be8a-4322-a23e-bd37db7506df",
   "metadata": {},
   "outputs": [],
   "source": [
    "patients_path = '../data/patients_all/'\n",
    "appointments_path = '../data/appointments_all/'\n",
    "cmd_path = '../data/CMD_all/'\n",
    "ebs_path = '../data/EBS_all/'\n",
    "fdrs_path = '../data/FDRs_all/'\n",
    "medrize_path =  '../data/medrize_all/'"
   ]
  },
  {
   "cell_type": "code",
   "execution_count": 15,
   "id": "4014232a-3362-4bed-9f47-e27c6c990171",
   "metadata": {},
   "outputs": [],
   "source": [
    "def read_csv_folder(path):\n",
    "    files = glob.glob(path + \"/*.csv\")\n",
    "    dfs = []\n",
    "    for file in files:\n",
    "        df = pd.read_csv(file, encoding='latin-1')\n",
    "        dfs.append(df)\n",
    "    df_final = pd.concat(dfs, ignore_index=True)\n",
    "    return df_final"
   ]
  },
  {
   "cell_type": "code",
   "execution_count": 21,
   "id": "4737297a-748f-43fa-beb1-12c82cbc2577",
   "metadata": {},
   "outputs": [],
   "source": [
    "patients_df = read_csv_folder(patients_path)\n",
    "appointments_df = read_csv_folder(appointments_path)"
   ]
  },
  {
   "cell_type": "code",
   "execution_count": 22,
   "id": "b0aaf53c-4178-41ed-b764-62fa8daeccef",
   "metadata": {},
   "outputs": [],
   "source": [
    "patients_df = patients_df.drop(columns=['Preferred Method of Communication','Ethnicity', 'Preferred Language',\n",
    "       'Ethnicity / Preferred Language Effective Date', 'Race',\n",
    "       'Race Effective Date', 'Smoking Status',\n",
    "       'Smoking Status Effective Date'])"
   ]
  },
  {
   "cell_type": "code",
   "execution_count": 24,
   "id": "5f77b36d-1079-46f3-ad3a-ef378b09e269",
   "metadata": {},
   "outputs": [
    {
     "data": {
      "text/plain": [
       "<bound method NDFrame.describe of        Patient Last Name Patient First Name Patient Middle Name  \\\n",
       "0               Martinez             Ashley                 Flo   \n",
       "1              Collymore             London                 NaN   \n",
       "2                 SWAIN              JAVON                   C    \n",
       "3                 LAHENS            KEISHA                  NaN   \n",
       "4             VALLENILLA            ELIJAH                  NaN   \n",
       "...                  ...                ...                 ...   \n",
       "190869           Mercado         Maria Vega                 NaN   \n",
       "190870          Gonzales              Maria                 NaN   \n",
       "190871             Simms             Martha                   M   \n",
       "190872          CHAPNICK              EDITH                 NaN   \n",
       "190873          Benjamin             Yvette                   D   \n",
       "\n",
       "       Patient Identifier     Sex Date of Birth     Age  \\\n",
       "0                   27536  Female    2003-03-08  21 yrs   \n",
       "1                   27539  Female    2014-01-25  11 yrs   \n",
       "2                  JA8954    Male    2004-04-28  20 yrs   \n",
       "3                 FL13901  Female    2004-11-01  20 yrs   \n",
       "4                 FL13902    Male    2019-08-28   5 yrs   \n",
       "...                   ...     ...           ...     ...   \n",
       "190869             HC2595    Male    1947-08-02  77 yrs   \n",
       "190870             HC2596  Female    1952-04-15  72 yrs   \n",
       "190871              61927  Female    1954-03-07  70 yrs   \n",
       "190872           CE484923  Female    1932-01-11  93 yrs   \n",
       "190873            CH24219  Female    1951-06-08  73 yrs   \n",
       "\n",
       "                  Address Line 1 Address Line 2      City State Postal Code  \\\n",
       "0              \\t1101 GREENE AVE            NaN  Brooklyn    NY     11221.0   \n",
       "1             473 CENTRAL AVE 2R            NaN  Brooklyn    NY     11221.0   \n",
       "2            131 06 142nd Street            NaN   Jamaica    NY     11436.0   \n",
       "3                  3211 Avenue I            NaN  Brooklyn    NY     11210.0   \n",
       "4          45A Garden Village Dr            NaN   Buffalo    NY     14227.0   \n",
       "...                          ...            ...       ...   ...         ...   \n",
       "190869  2552 Webb Avenue Apt. 2M            NaN     Bronx    NY       10468   \n",
       "190870    75 Sherman Ave Apt 52             NaN  New York    NY       10040   \n",
       "190871         827 GREENE AVENUE            NaN  Brooklyn    NY       11221   \n",
       "190872          2790 west 5th st            NaN  Brooklyn    NY       11224   \n",
       "190873      333 East 92nd Street            NaN  Brooklyn    NY       11212   \n",
       "\n",
       "       Most Recent Visit Date      Home Phone    Mobile Phone Office Phone  \\\n",
       "0                  2021-02-12             NaN  (929) 293-8036          NaN   \n",
       "1                  2021-08-14             NaN  (347) 263-1264          NaN   \n",
       "2                  2022-01-03             NaN  (347) 809-4958          NaN   \n",
       "3                  2025-01-28  (516) 344-7308  (347) 677-6323          NaN   \n",
       "4                  2021-02-13             NaN  (347) 874-0982          NaN   \n",
       "...                       ...             ...             ...          ...   \n",
       "190869                    NaN             NaN  (917) 592-5048          NaN   \n",
       "190870                    NaN             NaN  (212) 569-5178          NaN   \n",
       "190871             2025-02-13             NaN  (347) 743-3657          NaN   \n",
       "190872                    NaN  (718) 477-9129  (917) 364-1976          NaN   \n",
       "190873             2025-02-13  (718) 498-0795  (917) 648-1866          NaN   \n",
       "\n",
       "                     Email Address Active Fake  \n",
       "0                              NaN    Yes   No  \n",
       "1                              NaN    Yes   No  \n",
       "2            longshaya30@gmail.com    Yes   No  \n",
       "3                              NaN    Yes   No  \n",
       "4       justinvallenilla@gmail.com    Yes   No  \n",
       "...                            ...    ...  ...  \n",
       "190869                         NaN    Yes   No  \n",
       "190870                         NaN    Yes   No  \n",
       "190871                         NaN    Yes   No  \n",
       "190872            rgold430@aol.com    Yes   No  \n",
       "190873           ypayne333@aol.com    Yes   No  \n",
       "\n",
       "[190874 rows x 19 columns]>"
      ]
     },
     "execution_count": 24,
     "metadata": {},
     "output_type": "execute_result"
    }
   ],
   "source": [
    "patients_df.describe"
   ]
  },
  {
   "cell_type": "code",
   "execution_count": null,
   "id": "9013927c-100a-4568-82a6-d9962732bc00",
   "metadata": {},
   "outputs": [],
   "source": []
  },
  {
   "cell_type": "code",
   "execution_count": null,
   "id": "c9b39aec-2325-4894-847e-0935b7635ba3",
   "metadata": {},
   "outputs": [],
   "source": []
  },
  {
   "cell_type": "code",
   "execution_count": null,
   "id": "e3ca3e63-6fbb-46a2-bc19-e2761377cffc",
   "metadata": {},
   "outputs": [],
   "source": []
  },
  {
   "cell_type": "code",
   "execution_count": null,
   "id": "51663f85-e883-48d1-a635-208aeefcf517",
   "metadata": {},
   "outputs": [],
   "source": []
  },
  {
   "cell_type": "code",
   "execution_count": null,
   "id": "9d321ba4-5f4e-4581-b40f-d5e0ff3bac34",
   "metadata": {},
   "outputs": [],
   "source": []
  },
  {
   "cell_type": "code",
   "execution_count": null,
   "id": "acebb8c8-06e2-4264-b271-ca234b02ab09",
   "metadata": {},
   "outputs": [],
   "source": []
  },
  {
   "cell_type": "code",
   "execution_count": null,
   "id": "122cacb0-9712-4011-9edf-245e01ea464a",
   "metadata": {},
   "outputs": [],
   "source": []
  },
  {
   "cell_type": "code",
   "execution_count": 85,
   "id": "4226cf8b-4a1e-408e-9d8b-d6162c48de1e",
   "metadata": {},
   "outputs": [],
   "source": [
    "data_sorted = data.sort_values(by=['Deposit', 'Paid'], ascending=[False, False])"
   ]
  },
  {
   "cell_type": "code",
   "execution_count": 75,
   "id": "6e803825-ef5a-41b2-ae58-866b193e150b",
   "metadata": {},
   "outputs": [],
   "source": [
    "latest_purchases_idx = data_sorted.groupby(['Patient', 'CPT', 'DOS'])['Deposit'].idxmax()"
   ]
  },
  {
   "cell_type": "code",
   "execution_count": 76,
   "id": "100fed37-fd71-49a7-8b56-15d82acfb85c",
   "metadata": {},
   "outputs": [],
   "source": [
    "latest_paid_data = data.loc[latest_purchases_idx]"
   ]
  },
  {
   "cell_type": "code",
   "execution_count": 77,
   "id": "3882a932-a345-4002-b933-689f7d9f2a49",
   "metadata": {},
   "outputs": [],
   "source": [
    "latest_purchases_df = latest_paid_data.reset_index(drop=True)"
   ]
  },
  {
   "cell_type": "code",
   "execution_count": 78,
   "id": "f5d6e585-2241-4bc9-85de-46e41df1fbd8",
   "metadata": {},
   "outputs": [],
   "source": [
    "latest_purchases_df.to_excel('data_cleaned_with_pandas.xlsx', index = False)"
   ]
  },
  {
   "cell_type": "code",
   "execution_count": 79,
   "id": "81bc55e6-bb34-4d7f-b75a-123cfdf8fc57",
   "metadata": {},
   "outputs": [
    {
     "data": {
      "text/plain": [
       "(46476, 10)"
      ]
     },
     "execution_count": 79,
     "metadata": {},
     "output_type": "execute_result"
    }
   ],
   "source": [
    "latest_purchases_df.shape"
   ]
  },
  {
   "cell_type": "code",
   "execution_count": null,
   "id": "b36f9752-29f4-47be-ba93-1f96826497b6",
   "metadata": {},
   "outputs": [],
   "source": [
    "#Since the billing data is spread in different .csv files, there is a need to iterate into a folder containing such files to append all data into a single DataFrame\n",
    "def join_files(path):\n",
    "    files = glob.glob(path + \"/*.csv\")\n",
    "    dfs = []\n",
    "    for file in files:\n",
    "        df = pd.read_csv(file, encoding='latin-1')\n",
    "        dfs.append(df)\n",
    "    df_final = pd.concat(dfs, ignore_index=True)\n",
    "    return df_final"
   ]
  },
  {
   "cell_type": "code",
   "execution_count": null,
   "id": "2d41fe22-cb41-4631-9a6e-76335590e745",
   "metadata": {},
   "outputs": [],
   "source": [
    "#Since if there is not a deposit means the claim has not been \"resolved\" and there is no need for that data as of now I will just drop those rows.\n",
    "data = data.dropna(subset='Deposit')\n",
    "\n",
    "#Convert the payments values to floats, and the dates to DateTime format.\n",
    "data['Paid'] = data['Paid'].map(lambda x: float(x.replace(\"$\", \"\").replace(\",\", \"\").replace(\".\", \"\")) / 100)\n",
    "data['DOS'] = pd.to_datetime(data['DOS'])\n",
    "data['Deposit'] = pd.to_datetime(data['Deposit'])"
   ]
  },
  {
   "cell_type": "code",
   "execution_count": null,
   "id": "927893ab-3772-4408-8170-dd6bb3d9af4c",
   "metadata": {},
   "outputs": [],
   "source": [
    "#Now I want to get unique rows if the Claim, Patient, DOS and CPT are the same, such that I have the latest payment \n",
    "#because upon inspecting the data, it turned out to be the correct amount paid and correct insurance in all cases checked.\n",
    "#To achieve this I need to first sort rows by Deposit Date from newest to oldest and then if ties persist, by highest to lowest by amount of payments\n",
    "data = data.sort_values(by=[\"Deposit\",'Paid'], ascending=[False, False])\n",
    "latest_purchases_idx = data_sorted.groupby(['Patient', 'CPT', 'DOS'])['Deposit'].idxmax()\n",
    "\n"
   ]
  },
  {
   "cell_type": "code",
   "execution_count": null,
   "id": "614a43d1-a370-4e44-8100-d2d2388bf7cd",
   "metadata": {},
   "outputs": [],
   "source": [
    "\n",
    "latest_purchases_idx = data_sorted.groupby(['Patient', 'CPT', 'DOS'])['Deposit'].idxmax()\n",
    "\n",
    "\n",
    "latest_paid_data = data.loc[latest_purchases_idx]\n",
    "latest_purchases_df = latest_paid_data.reset_index(drop=True)\n",
    "latest_purchases_df.to_excel('data_cleaned_with_pandas.xlsx', index = False)"
   ]
  },
  {
   "cell_type": "code",
   "execution_count": null,
   "id": "0a0bb1c3-c84a-4b7d-afa9-c03cc9fb1682",
   "metadata": {},
   "outputs": [],
   "source": [
    "def names_match(name1, name2):\n",
    "    return (name1.lower() == name2.lower() or\n",
    "            abs(len(name1) - len(name2)) <= 2 and\n",
    "            name1.lower().replace(\" \", \"\").replace(\"-\", \"\").replace(\".\", \"\") ==\n",
    "            name2.lower().replace(\" \", \"\").replace(\"-\", \"\").replace(\".\", \"\"))\n",
    "\n",
    "# Apply the matching function and update the 'match_name' column\n",
    "def update_match_name(row):\n",
    "    matches = [name for name in df2.loc[df2['date'] == row['date'], 'name'] if names_match(row['name'], name)]\n",
    "    return ', '.join(matches) if matches else 'not found'\n",
    "\n",
    "df1['match_name'] = df1.apply(update_match_name, axis=1)\n",
    "\n",
    "# Count the number of names found\n",
    "num_found_names = df1['match_name'].value_counts().get('not found', 0)\n",
    "\n",
    "# Print the resulting DataFrame\n",
    "print(df1)\n",
    "\n",
    "# Print the number of names found\n",
    "print(f\"\\nNumber of names not found: {num_found_names}\")"
   ]
  },
  {
   "cell_type": "code",
   "execution_count": null,
   "id": "c633f202-a050-49ea-b24e-240f60dac18c",
   "metadata": {},
   "outputs": [],
   "source": []
  },
  {
   "cell_type": "code",
   "execution_count": null,
   "id": "85023c65-8006-42c4-8550-3d060a5e3576",
   "metadata": {},
   "outputs": [],
   "source": []
  },
  {
   "cell_type": "code",
   "execution_count": null,
   "id": "175f2d16-0e4b-4036-ab41-2949168f5947",
   "metadata": {},
   "outputs": [],
   "source": [
    "# Nombres Completos\n",
    "# Nombres Completos inversos\n",
    "# Nombres sin Iniciales\n",
    "# Nombres sin Iniciales Inversos\n",
    "# 2 Nombres con 2 nombres\n",
    "# 2 Nombres con 2 nombres Inversos\n",
    "# \n",
    "# \n",
    "###"
   ]
  }
 ],
 "metadata": {
  "kernelspec": {
   "display_name": "Python 3 (ipykernel)",
   "language": "python",
   "name": "python3"
  },
  "language_info": {
   "codemirror_mode": {
    "name": "ipython",
    "version": 3
   },
   "file_extension": ".py",
   "mimetype": "text/x-python",
   "name": "python",
   "nbconvert_exporter": "python",
   "pygments_lexer": "ipython3",
   "version": "3.13.5"
  }
 },
 "nbformat": 4,
 "nbformat_minor": 5
}
