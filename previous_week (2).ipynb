{
 "cells": [
  {
   "cell_type": "code",
   "execution_count": 1,
   "id": "06a4b858-d7d1-4a4b-96e3-adc7c10d8205",
   "metadata": {},
   "outputs": [],
   "source": [
    "import pandas as pd\n",
    "import glob"
   ]
  },
  {
   "cell_type": "code",
   "execution_count": 2,
   "id": "b1a210fd-b092-42e1-a339-d5ea9365153f",
   "metadata": {},
   "outputs": [],
   "source": [
    "files_path = '../data/patients/'"
   ]
  },
  {
   "cell_type": "code",
   "execution_count": 3,
   "id": "39497ca5-2b0a-4a7c-8a16-08e92bd30de5",
   "metadata": {},
   "outputs": [],
   "source": [
    "def joint_patients_list(path):\n",
    "    files = glob.glob(path + \"/*.csv\")\n",
    "    dfs = []\n",
    "    for file in files:\n",
    "        df = pd.read_csv(file, encoding='latin-1')\n",
    "        dfs.append(df)\n",
    "    df_final = pd.concat(dfs, ignore_index=True)\n",
    "    df_final.to_csv(\"patients.csv\", index=False)\n",
    "    df_final"
   ]
  },
  {
   "cell_type": "code",
   "execution_count": 4,
   "id": "de430b1b-5a7d-4fac-8fba-9811e8d0688b",
   "metadata": {},
   "outputs": [],
   "source": [
    "joint_patients_list(files_path)"
   ]
  },
  {
   "cell_type": "code",
   "execution_count": null,
   "id": "74b6a3ea-ae80-4ea0-8c7d-70f01b7345dd",
   "metadata": {},
   "outputs": [],
   "source": []
  },
  {
   "cell_type": "code",
   "execution_count": null,
   "id": "8ad6710c-20d3-4a2d-8e86-b81c02e3b77e",
   "metadata": {},
   "outputs": [],
   "source": []
  },
  {
   "cell_type": "code",
   "execution_count": null,
   "id": "4e5f3afd-aa5a-4d0b-9f4c-c233685d94fa",
   "metadata": {},
   "outputs": [],
   "source": []
  },
  {
   "cell_type": "code",
   "execution_count": null,
   "id": "04f2d88e-4c3a-45dc-922c-73a771274f42",
   "metadata": {},
   "outputs": [],
   "source": []
  },
  {
   "cell_type": "code",
   "execution_count": null,
   "id": "13022be0-2517-4cba-8e3b-9b0b5f045af1",
   "metadata": {},
   "outputs": [],
   "source": []
  }
 ],
 "metadata": {
  "kernelspec": {
   "display_name": "Python 3 (ipykernel)",
   "language": "python",
   "name": "python3"
  },
  "language_info": {
   "codemirror_mode": {
    "name": "ipython",
    "version": 3
   },
   "file_extension": ".py",
   "mimetype": "text/x-python",
   "name": "python",
   "nbconvert_exporter": "python",
   "pygments_lexer": "ipython3",
   "version": "3.13.5"
  }
 },
 "nbformat": 4,
 "nbformat_minor": 5
}
